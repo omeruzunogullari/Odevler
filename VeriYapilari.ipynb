{
 "cells": [
  {
   "cell_type": "code",
   "execution_count": null,
   "metadata": {},
   "outputs": [],
   "source": [
    "Günler ={\n",
    "    \"Pazartesi\" : 12,\n",
    "    \"Salı\" : 12,\n",
    "    \"Carsamba\" : 5,\n",
    "    \"Persembe\" : 4,\n",
    "    \"Cuma\" : 2\n",
    "    \"Cumartesi\" : 1\n",
    "    \"Pazar\" : 6\n",
    "}\n",
    "\n",
    "\n",
    "def silme():\n",
    "    gunler = list(input(\"Rakam giriniz:\"))\n",
    "    for key, value in Günler.items():\n",
    "        if value in gunler:\n",
    "            del Günler[key]\n",
    "            break\n",
    "    print(Günler)\n",
    "    \n",
    "    \n",
    "    \n",
    "    \n",
    "    "
   ]
  },
  {
   "cell_type": "code",
   "execution_count": 53,
   "metadata": {},
   "outputs": [
    {
     "ename": "SyntaxError",
     "evalue": "can't delete comparison (<ipython-input-53-4bd79fc03f3e>, line 15)",
     "output_type": "error",
     "traceback": [
      "\u001b[1;36m  File \u001b[1;32m\"<ipython-input-53-4bd79fc03f3e>\"\u001b[1;36m, line \u001b[1;32m15\u001b[0m\n\u001b[1;33m    del (Günler[key] != value)\u001b[0m\n\u001b[1;37m       ^\u001b[0m\n\u001b[1;31mSyntaxError\u001b[0m\u001b[1;31m:\u001b[0m can't delete comparison\n"
     ]
    }
   ],
   "source": [
    "Günler ={\n",
    "    \"Pazartesi\" : 12,\n",
    "    \"Salı\" : 12,\n",
    "    \"Carsamba\" : 5,\n",
    "    \"Persembe\" : 4,\n",
    "    \"Cuma\" : 2,\n",
    "    \"Cumartesi\" : 1,\n",
    "    \"Pazar\" : 6\n",
    "}\n",
    "\n",
    "gunler =list(input(\"Rakam giriniz:\"))\n",
    "\n",
    "for key, value in Günler.items():    \n",
    "    if value == rakam:\n",
    "        del (Günler[key] == value)\n",
    "        \n",
    "print(Günler)"
   ]
  },
  {
   "cell_type": "code",
   "execution_count": 2,
   "metadata": {},
   "outputs": [
    {
     "name": "stdout",
     "output_type": "stream",
     "text": [
      "Value giriniz:4\n",
      "{'Pazartesi': 12, 'Salı': 12, 'Carsamba': 5, 'Persembe': 4, 'Cuma': 2, 'Cumartesi': 1, 'Pazar': 6}\n"
     ]
    }
   ],
   "source": [
    "Günler ={\n",
    "    \"Pazartesi\" : 12,\n",
    "    \"Salı\" : 12,\n",
    "    \"Carsamba\" : 5,\n",
    "    \"Persembe\" : 4,\n",
    "    \"Cuma\" : 2,\n",
    "    \"Cumartesi\" : 1,\n",
    "    \"Pazar\" : 6\n",
    "}\n",
    "value = input(\"Value giriniz:\")\n",
    "\n",
    "for k in Günler.copy():\n",
    "    if Günler[k] == value:\n",
    "        del myDict[k]\n",
    "\n",
    "print(Günler)"
   ]
  },
  {
   "cell_type": "code",
   "execution_count": 81,
   "metadata": {},
   "outputs": [
    {
     "name": "stdout",
     "output_type": "stream",
     "text": [
      "['Ocak', 'Şubat', 'Mart', 'Nisan', 'Mayıs', 'Haziran', 'Temmuz', 'Ağustos', 'Eylül', 'Ekim', 'Kasım', 'Aralık']\n",
      "[31, 28, 31, 30, 31, 30, 31, 30, 31, 30, 31, 30]\n",
      "[['Ocak', 'Şubat', 'Mart', 'Nisan', 'Mayıs', 'Haziran', 'Temmuz', 'Ağustos', 'Eylül', 'Ekim', 'Kasım', 'Aralık'], [31, 28, 31, 30, 31, 30, 31, 30, 31, 30, 31, 30]]\n"
     ]
    }
   ],
   "source": [
    "Aylar = [[\"Ocak\",31], [\"Şubat\", 28], [\"Mart\", 31], [\"Nisan\", 30], [\"Mayıs\", 31], [\"Haziran\", 30],\n",
    "         [\"Temmuz\", 31], [\"Ağustos\", 30], [\"Eylül\", 31], [\"Ekim\", 30], [\"Kasım\", 31], [\"Aralık\",30]]\n",
    "List1=[]\n",
    "List2=[]\n",
    "List3=[[], []]\n",
    "\n",
    "for i in range(len(Aylar)):\n",
    "    List1.append(Aylar[i][0])\n",
    "    List2.append(Aylar[i][1])\n",
    "\n",
    "List3[0]=List1\n",
    "List3[1]=List2\n",
    "\n",
    "print(List1)\n",
    "print(List2)\n",
    "print(List3)\n"
   ]
  },
  {
   "cell_type": "code",
   "execution_count": 59,
   "metadata": {},
   "outputs": [
    {
     "name": "stdout",
     "output_type": "stream",
     "text": [
      "[['Mart', 'Nisan', 'Mayıs'], ['Haziran', 'Temmuz', 'Ağustos'], ['Eylül', 'Ekim', 'Kasım'], ['Aralık', 'Ocak', 'Şubat']]\n"
     ]
    },
    {
     "data": {
      "text/plain": [
       "{'Yaz': ['Mart', 'Nisan', 'Mayıs'],\n",
       " 'İlkbahar': ['Mart', 'Nisan', 'Mayıs'],\n",
       " 'Sonbahar': ['Eylül', 'Ekim', 'Kasım'],\n",
       " 'Kış': ['Aralık', 'Ocak', 'Şubat']}"
      ]
     },
     "execution_count": 59,
     "metadata": {},
     "output_type": "execute_result"
    }
   ],
   "source": [
    "ilkbahar = ['Mart', 'Nisan', 'Mayıs']\n",
    "yaz = ['Haziran', 'Temmuz','Ağustos']\n",
    "sonbahar = ['Eylül', 'Ekim', 'Kasım']\n",
    "kış = ['Aralık', 'Ocak', 'Şubat']\n",
    "mevsim_ayları = [ilkbahar, yaz, sonbahar, kış]\n",
    "print(mevsim_ayları)\n",
    "\n",
    "\n",
    "MevsimAyları = {\n",
    "    \"Yaz\": ['Mart', 'Nisan', 'Mayıs'],\n",
    "    \"İlkbahar\" : ['Mart', 'Nisan', 'Mayıs'],\n",
    "    \"Sonbahar\" : ['Eylül', 'Ekim', 'Kasım'],\n",
    "    \"Kış\" : ['Aralık', 'Ocak', 'Şubat']\n",
    "}\n",
    "\n",
    "MevsimAyları"
   ]
  },
  {
   "cell_type": "code",
   "execution_count": 84,
   "metadata": {},
   "outputs": [
    {
     "name": "stdout",
     "output_type": "stream",
     "text": [
      "[30, 31, 30]\n",
      "91\n"
     ]
    }
   ],
   "source": [
    "List5= []\n",
    "for x in range(len(yaz)):\n",
    "    List5.append(Aylar[x+5][1])\n",
    "\n",
    "print(List5)\n",
    "\n",
    "YazAylarıToplam = 0\n",
    "\n",
    "for x in range(len(List5)):\n",
    "    YazAylarıToplam  += List5[x]\n",
    "    \n",
    "print(YazAylarıToplam)\n",
    "    \n"
   ]
  },
  {
   "cell_type": "code",
   "execution_count": null,
   "metadata": {},
   "outputs": [],
   "source": []
  }
 ],
 "metadata": {
  "kernelspec": {
   "display_name": "Python 3",
   "language": "python",
   "name": "python3"
  },
  "language_info": {
   "codemirror_mode": {
    "name": "ipython",
    "version": 3
   },
   "file_extension": ".py",
   "mimetype": "text/x-python",
   "name": "python",
   "nbconvert_exporter": "python",
   "pygments_lexer": "ipython3",
   "version": "3.7.6"
  }
 },
 "nbformat": 4,
 "nbformat_minor": 4
}
