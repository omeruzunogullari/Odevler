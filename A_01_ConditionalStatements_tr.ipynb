{
  "nbformat": 4,
  "nbformat_minor": 0,
  "metadata": {
    "kernelspec": {
      "display_name": "Python 3",
      "language": "python",
      "name": "python3"
    },
    "language_info": {
      "codemirror_mode": {
        "name": "ipython",
        "version": 3
      },
      "file_extension": ".py",
      "mimetype": "text/x-python",
      "name": "python",
      "nbconvert_exporter": "python",
      "pygments_lexer": "ipython3",
      "version": "3.7.5"
    },
    "colab": {
      "name": "A_01_ConditionalStatements_tr.ipynb",
      "provenance": [],
      "include_colab_link": true
    }
  },
  "cells": [
    {
      "cell_type": "markdown",
      "metadata": {
        "id": "view-in-github",
        "colab_type": "text"
      },
      "source": [
        "<a href=\"https://colab.research.google.com/github/omeruzunogullari/Odevler/blob/main/A_01_ConditionalStatements_tr.ipynb\" target=\"_parent\"><img src=\"https://colab.research.google.com/assets/colab-badge.svg\" alt=\"Open In Colab\"/></a>"
      ]
    },
    {
      "cell_type": "markdown",
      "metadata": {
        "id": "an0_Reg4InUP"
      },
      "source": [
        "- Kullanıcıdan Santigrat ya da Fahrenheit olarak sıcaklık değerini alacak ve diğer sıcaklık birimine çevirecek bir kod yazın. Dönüşüm için `C = (5/9) * (F - 32)` formülünü kullanabilirsiniz. \n",
        "\n",
        "        Örnek : \"40C\" --> \"104F\"\n",
        "                \"52F\" --> \"11.1\"\n",
        "\n",
        "- 1'den 50'ye kadar olan Fibonacci sayılarından oluşan bir liste oluşturun. İlk iki Fibonacci sayısı 1'dir. Sonraki sayılar, önceki iki sayının toplamıdır.\n",
        "\n",
        "- Kullanıcıdan 3 kişinin adını ve yaşını alın ve en yaşlı olanın adını ekrana yazdırın.\n",
        "\n",
        "- Kullanıcının gireceği harfin ünlü harf mi yoksa ünsüz harf mi olduğunu bildiren bir kod yazın. Eğer kullanıcı birden fazla harf girerse, girdiği bir uyarı verecek ve ilk harf için değerlendirme yapmasını, harf dışında bir karakter (rakam vb.) girerse de uyarı vermesini sağlayın."
      ]
    },
    {
      "cell_type": "code",
      "metadata": {
        "id": "qSB2t_tvIp1X"
      },
      "source": [
        "Sicaklik = int(input(\"Sicaklik değerini girinizi:\")\r\n",
        "\r\n"
      ],
      "execution_count": null,
      "outputs": []
    },
    {
      "cell_type": "code",
      "metadata": {
        "id": "5nrJNrOkJsGp"
      },
      "source": [
        "while True:\r\n",
        "  print(\"Fahrenheit to Celcius için 1, Celcius to Fahrenheit için 2, Hesaplamadan cıkmak için 3 tuşuna basınız\")\r\n",
        "  islem =input(\"Yapmak istediğiniz işlemi seçiniz:\")\r\n",
        "\r\n",
        "  try:\r\n",
        "    islem = int(islem)\r\n",
        "  except ValueError:\r\n",
        "    print(\"Hatali giriş yaptınız, lütfen sadece 1 yada 2'yi seçiniz.\")\r\n",
        "\r\n",
        "  if islem == 1:\r\n",
        "    x = input(\"Fagrenheit sıcaklık değerini giriniz:\")\r\n",
        "    try:\r\n",
        "      x=int(x)\r\n",
        "      c=(5/9) * (x-32)\r\n",
        "      print(\"Celcius değeri. {}\".format(c))\r\n",
        "    except ValueError:\r\n",
        "      print(\"Hatalı değer girdiniz, sadece rakam giriniz.\")\r\n",
        "  \r\n",
        "  elif islem == 2:\r\n",
        "    y= input(\"Celcius sıcaklık değerini giriniz:\")\r\n",
        "    try:\r\n",
        "      y=int(y)\r\n",
        "      f = (y * 1.8) + 32\r\n",
        "      print(\"Fahrenheit değeri: {}\".format(f))\r\n",
        "    except ValueError:\r\n",
        "      print(\"Hatalı değer girdiniz, sadece rakam giriniz.\")\r\n",
        "  elif islem == 3:\r\n",
        "    print(\"Cıkıs yapılıyor.\")\r\n",
        "    break\r\n",
        "\r\n",
        "  else:\r\n",
        "    print(\"Hatali işlem sectiniz, 1,2 ya da 0'ı seçiniz.\")\r\n",
        "  "
      ],
      "execution_count": null,
      "outputs": []
    },
    {
      "cell_type": "code",
      "metadata": {
        "id": "-2T2DhByPOrU"
      },
      "source": [
        "a=1\r\n",
        "b=1\r\n",
        "i=2\r\n",
        "\r\n",
        "while i<=50:\r\n",
        "  a, b= b, a+b\r\n",
        "  i += 1\r\n",
        "  print (b)"
      ],
      "execution_count": null,
      "outputs": []
    },
    {
      "cell_type": "code",
      "metadata": {
        "id": "9wqWi0T3W4SO"
      },
      "source": [
        "yas1=int(input(\"1. kişinin yaşını giriniz:\"))\r\n",
        "yas2=int(input(\"2. kişinin yaşını giriniz:\"))\r\n",
        "yas3=int(input(\"3. kişinin yaşını giriniz:\"))\r\n",
        "\r\n",
        "isim1= input(\"1.kişinin adını giriniz:\")\r\n",
        "isim2= input(\"2.kişinin adını giriniz:\")\r\n",
        "isim3= input(\"3.kişinin adını giriniz:\")\r\n",
        "\r\n",
        "if (yas1 >= yas2) and (yas1 >= yas3):\r\n",
        "  print (\"En yaşlı kişinin adı: {}\".format(isim1))\r\n",
        "\r\n",
        "elif (yas2 >=yas1) and (yas2 >= yas3):\r\n",
        "  print (\"En yaşlı kişinin adı: {}\".format(isim2))\r\n",
        "\r\n",
        "else:\r\n",
        "  print (\"En yaşlı kişinin adı: {}\".format(isim3))\r\n",
        "\r\n",
        "\r\n",
        "\r\n"
      ],
      "execution_count": null,
      "outputs": []
    },
    {
      "cell_type": "code",
      "metadata": {
        "id": "4E_pchgnZpX5",
        "outputId": "4cf1a84e-e170-48b0-dc30-f15ebcbb44bb",
        "colab": {
          "base_uri": "https://localhost:8080/"
        }
      },
      "source": [
        "harf = input(\"lütfe bir harf giriniz:\").lower()\r\n",
        "sesli= [\"a\",\"e\",\"i\",\"o\",\"ü\",\"u\",\"ö\"]\r\n",
        "sessiz=[\"b\", \"c\", \"ç\", \"d\", \"e\", \"f\", \"g\", \"h\", \"j\", \"k\",\"l\", \"m\"]\r\n",
        "\r\n",
        "uzunluk = len(harf)\r\n",
        "if uzunluk > 1:\r\n",
        "  print(\"Lütfen bundan sonra sadece 1 harf giriniz\")\r\n",
        "  if harf[0] in sesli:\r\n",
        "      print(\"Girdiğiniz harf sesli harftir\")\r\n",
        "  elif harf[0] in sessiz:\r\n",
        "      print(\"Girdiğiniz harf sessiz harftir\")\r\n",
        "  else:\r\n",
        "    print(\"Lütfen harf dısında karakter girmeyiniz.\")\r\n",
        "  "
      ],
      "execution_count": 10,
      "outputs": [
        {
          "output_type": "stream",
          "text": [
            "lütfe bir harf giriniz:af\n",
            "Lütfen bundan sonra sadece 1 harf giriniz\n",
            "Girdiğiniz harf sesli harftir\n"
          ],
          "name": "stdout"
        }
      ]
    },
    {
      "cell_type": "code",
      "metadata": {
        "id": "8jMIAd70cuKr"
      },
      "source": [
        ""
      ],
      "execution_count": 6,
      "outputs": []
    }
  ]
}